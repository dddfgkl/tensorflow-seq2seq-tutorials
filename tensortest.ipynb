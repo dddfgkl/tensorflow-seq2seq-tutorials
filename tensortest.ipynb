{
 "cells": [
  {
   "cell_type": "code",
   "execution_count": 1,
   "metadata": {},
   "outputs": [],
   "source": [
    "import tensorflow as tf"
   ]
  },
  {
   "cell_type": "code",
   "execution_count": 2,
   "metadata": {},
   "outputs": [],
   "source": [
    "# sequebce is 4, batch 3\n",
    "x = [[5, 6, 7],\n",
    "     [7, 6, 0],\n",
    "     [0, 7, 0],\n",
    "      [0,8,0]]\n",
    "xl = [2, 4, 1]"
   ]
  },
  {
   "cell_type": "code",
   "execution_count": 3,
   "metadata": {},
   "outputs": [],
   "source": [
    "encoder_inputs = tf.constant(x, dtype=tf.int32, name='encoder_inputs')\n",
    "encoder_inputs_length = tf.constant(xl, dtype=tf.int32, name='encoder_inputs_length')\n",
    "decoder_targets = tf.constant(x, dtype=tf.int32, name='decoder_targets')\n",
    "decoder_targets_length = tf.constant(xl, dtype=tf.int32, name='decoder_targets_length')"
   ]
  },
  {
   "cell_type": "code",
   "execution_count": 5,
   "metadata": {},
   "outputs": [],
   "source": [
    "PAD = 0\n",
    "EOS = 1\n",
    "batch_size = 3"
   ]
  },
  {
   "cell_type": "code",
   "execution_count": 7,
   "metadata": {},
   "outputs": [],
   "source": [
    "EOS_SLICE = tf.ones([1, batch_size], dtype=tf.int32) * EOS\n",
    "PAD_SLICE = tf.ones([1, batch_size], dtype=tf.int32) * PAD"
   ]
  },
  {
   "cell_type": "code",
   "execution_count": 8,
   "metadata": {},
   "outputs": [],
   "source": [
    "decoder_train_inputs = tf.concat([EOS_SLICE, decoder_targets], axis=0)"
   ]
  },
  {
   "cell_type": "code",
   "execution_count": 9,
   "metadata": {},
   "outputs": [],
   "source": [
    "decoder_train_length = decoder_targets_length + 1"
   ]
  },
  {
   "cell_type": "code",
   "execution_count": 16,
   "metadata": {},
   "outputs": [],
   "source": [
    "decoder_train_targets = tf.concat([decoder_targets, PAD_SLICE], axis=0)\n",
    "decoder_train_targets_seq_len, _ = tf.unstack(tf.shape(decoder_train_targets)) \n",
    "decoder_train_targets_eos_mask = tf.one_hot(decoder_train_length - 1,\n",
    "                                                        decoder_train_targets_seq_len,\n",
    "                                                        on_value=EOS, off_value=PAD,\n",
    "                                                        dtype=tf.int32)\n",
    "decoder_train_targets_eos_mask = tf.transpose(decoder_train_targets_eos_mask, [1, 0])\n",
    "\n",
    "            # hacky way using one_hot to put EOS symbol at the end of target sequence\n",
    "decoder_train_targets = tf.add(decoder_train_targets,\n",
    "                                           decoder_train_targets_eos_mask)"
   ]
  },
  {
   "cell_type": "code",
   "execution_count": 23,
   "metadata": {},
   "outputs": [
    {
     "name": "stdout",
     "output_type": "stream",
     "text": [
      "5\n",
      "[[0 0 0]\n",
      " [0 0 1]\n",
      " [1 0 0]\n",
      " [0 0 0]\n",
      " [0 1 0]]\n",
      "[[5 6 7]\n",
      " [7 6 1]\n",
      " [1 7 0]\n",
      " [0 8 0]\n",
      " [0 1 0]]\n"
     ]
    }
   ],
   "source": [
    "with tf.Session() as sess:\n",
    "    seq_len, eos_mask, targets = sess.run([decoder_train_targets_seq_len, decoder_train_targets_eos_mask,decoder_train_targets])\n",
    "    print(seq_len)\n",
    "    print(eos_mask)\n",
    "    print(targets)"
   ]
  },
  {
   "cell_type": "code",
   "execution_count": 13,
   "metadata": {},
   "outputs": [
    {
     "name": "stdout",
     "output_type": "stream",
     "text": [
      "[[1 1 1]\n",
      " [5 6 7]\n",
      " [7 6 0]\n",
      " [0 7 0]\n",
      " [0 8 0]]\n"
     ]
    }
   ],
   "source": [
    "print(train_inputs)"
   ]
  },
  {
   "cell_type": "code",
   "execution_count": null,
   "metadata": {},
   "outputs": [],
   "source": []
  }
 ],
 "metadata": {
  "kernelspec": {
   "display_name": "Python 3",
   "language": "python",
   "name": "python3"
  },
  "language_info": {
   "codemirror_mode": {
    "name": "ipython",
    "version": 3
   },
   "file_extension": ".py",
   "mimetype": "text/x-python",
   "name": "python",
   "nbconvert_exporter": "python",
   "pygments_lexer": "ipython3",
   "version": "3.6.5"
  }
 },
 "nbformat": 4,
 "nbformat_minor": 2
}
